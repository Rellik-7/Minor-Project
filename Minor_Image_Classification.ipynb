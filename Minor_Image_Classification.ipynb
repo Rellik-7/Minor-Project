{
  "nbformat": 4,
  "nbformat_minor": 0,
  "metadata": {
    "colab": {
      "name": "Minor-Image Classification.ipynb",
      "provenance": [],
      "collapsed_sections": [],
      "authorship_tag": "ABX9TyMmP2eUjCO5weFht5jJjfsX",
      "include_colab_link": true
    },
    "kernelspec": {
      "name": "python3",
      "display_name": "Python 3"
    },
    "language_info": {
      "name": "python"
    }
  },
  "cells": [
    {
      "cell_type": "markdown",
      "metadata": {
        "id": "view-in-github",
        "colab_type": "text"
      },
      "source": [
        "<a href=\"https://colab.research.google.com/github/Rellik-7/Minor-Project/blob/main/Minor_Image_Classification.ipynb\" target=\"_parent\"><img src=\"https://colab.research.google.com/assets/colab-badge.svg\" alt=\"Open In Colab\"/></a>"
      ]
    },
    {
      "cell_type": "markdown",
      "metadata": {
        "id": "PYPY2mgbApZY"
      },
      "source": [
        "# Image Classification using Basic ML Algorithms\n",
        "                              "
      ]
    },
    {
      "cell_type": "markdown",
      "metadata": {
        "id": "CTprk_pFgUED"
      },
      "source": [
        "  Categories:\n",
        "* Apple\n",
        "* Banana\n",
        "* Grapes"
      ]
    },
    {
      "cell_type": "code",
      "metadata": {
        "id": "Ugr3MYWzMPhX",
        "colab": {
          "base_uri": "https://localhost:8080/"
        },
        "outputId": "a57a4757-1fd9-455e-8ce8-18db505dda22"
      },
      "source": [
        "!pip install ipython-autotime\n",
        "%load_ext autotime"
      ],
      "execution_count": 1,
      "outputs": [
        {
          "output_type": "stream",
          "text": [
            "Collecting ipython-autotime\n",
            "  Downloading https://files.pythonhosted.org/packages/b4/c9/b413a24f759641bc27ef98c144b590023c8038dfb8a3f09e713e9dff12c1/ipython_autotime-0.3.1-py2.py3-none-any.whl\n",
            "Requirement already satisfied: ipython in /usr/local/lib/python3.7/dist-packages (from ipython-autotime) (5.5.0)\n",
            "Requirement already satisfied: pickleshare in /usr/local/lib/python3.7/dist-packages (from ipython->ipython-autotime) (0.7.5)\n",
            "Requirement already satisfied: traitlets>=4.2 in /usr/local/lib/python3.7/dist-packages (from ipython->ipython-autotime) (5.0.5)\n",
            "Requirement already satisfied: pexpect; sys_platform != \"win32\" in /usr/local/lib/python3.7/dist-packages (from ipython->ipython-autotime) (4.8.0)\n",
            "Requirement already satisfied: pygments in /usr/local/lib/python3.7/dist-packages (from ipython->ipython-autotime) (2.6.1)\n",
            "Requirement already satisfied: decorator in /usr/local/lib/python3.7/dist-packages (from ipython->ipython-autotime) (4.4.2)\n",
            "Requirement already satisfied: simplegeneric>0.8 in /usr/local/lib/python3.7/dist-packages (from ipython->ipython-autotime) (0.8.1)\n",
            "Requirement already satisfied: prompt-toolkit<2.0.0,>=1.0.4 in /usr/local/lib/python3.7/dist-packages (from ipython->ipython-autotime) (1.0.18)\n",
            "Requirement already satisfied: setuptools>=18.5 in /usr/local/lib/python3.7/dist-packages (from ipython->ipython-autotime) (57.0.0)\n",
            "Requirement already satisfied: ipython-genutils in /usr/local/lib/python3.7/dist-packages (from traitlets>=4.2->ipython->ipython-autotime) (0.2.0)\n",
            "Requirement already satisfied: ptyprocess>=0.5 in /usr/local/lib/python3.7/dist-packages (from pexpect; sys_platform != \"win32\"->ipython->ipython-autotime) (0.7.0)\n",
            "Requirement already satisfied: six>=1.9.0 in /usr/local/lib/python3.7/dist-packages (from prompt-toolkit<2.0.0,>=1.0.4->ipython->ipython-autotime) (1.15.0)\n",
            "Requirement already satisfied: wcwidth in /usr/local/lib/python3.7/dist-packages (from prompt-toolkit<2.0.0,>=1.0.4->ipython->ipython-autotime) (0.2.5)\n",
            "Installing collected packages: ipython-autotime\n",
            "Successfully installed ipython-autotime-0.3.1\n",
            "time: 2.01 ms (started: 2021-06-26 17:06:00 +00:00)\n"
          ],
          "name": "stdout"
        }
      ]
    },
    {
      "cell_type": "markdown",
      "metadata": {
        "id": "FMgi_6w7BXSU"
      },
      "source": [
        "#Web Scraping using the Bing Image Downloader library"
      ]
    },
    {
      "cell_type": "code",
      "metadata": {
        "colab": {
          "base_uri": "https://localhost:8080/"
        },
        "id": "j4kWVW9SJiAM",
        "outputId": "74d7897c-ce62-462a-e752-f1aac36b07e6"
      },
      "source": [
        "!pip install bing-image-downloader"
      ],
      "execution_count": 2,
      "outputs": [
        {
          "output_type": "stream",
          "text": [
            "Collecting bing-image-downloader\n",
            "  Downloading https://files.pythonhosted.org/packages/c2/04/1872a689a30036aa0b81ac9fca124a7413cad71fdab714f727cf1a34b671/bing_image_downloader-1.1.1-py3-none-any.whl\n",
            "Installing collected packages: bing-image-downloader\n",
            "Successfully installed bing-image-downloader-1.1.1\n",
            "time: 2.84 s (started: 2021-06-26 17:06:02 +00:00)\n"
          ],
          "name": "stdout"
        }
      ]
    },
    {
      "cell_type": "code",
      "metadata": {
        "id": "zi3I0Ud_KZ0B",
        "colab": {
          "base_uri": "https://localhost:8080/"
        },
        "outputId": "4e224d9d-e9de-4be7-ab88-0ae1b1268d85"
      },
      "source": [
        "!mkdir images"
      ],
      "execution_count": 3,
      "outputs": [
        {
          "output_type": "stream",
          "text": [
            "time: 113 ms (started: 2021-06-26 17:06:07 +00:00)\n"
          ],
          "name": "stdout"
        }
      ]
    },
    {
      "cell_type": "code",
      "metadata": {
        "id": "o4DpSMgjKqS2",
        "colab": {
          "base_uri": "https://localhost:8080/"
        },
        "outputId": "46d9a2ba-3960-4d73-ec8e-0564f34458d9"
      },
      "source": [
        "from bing_image_downloader import downloader\n",
        "downloader.download(\"red apple fruit\",limit=50,output_dir='images',adult_filter_off=True)\n",
        "downloader.download(\"yellow banana fruit\",limit=50,output_dir='images',adult_filter_off=True)\n",
        "downloader.download(\"green grapes fruit\",limit=50,output_dir='images',adult_filter_off=True)"
      ],
      "execution_count": 4,
      "outputs": [
        {
          "output_type": "stream",
          "text": [
            "[%] Downloading Images to /content/images/red apple fruit\n",
            "\n",
            "\n",
            "[!!]Indexing page: 1\n",
            "\n",
            "[%] Indexed 50 Images on Page 1.\n",
            "\n",
            "===============================================\n",
            "\n",
            "[%] Downloading Image #1 from https://pixnio.com/free-images/2018/07/01/2018-07-01-16-50-16-1162x900.jpg\n",
            "[%] File Downloaded !\n",
            "\n",
            "[%] Downloading Image #2 from http://4.bp.blogspot.com/-X84kXtkWTrw/UjKpSPZ6NGI/AAAAAAAAIQg/0ijFmlALXYg/s1600/Colourfull-Apple-Fruit-Wallpaper.jpg\n",
            "[%] File Downloaded !\n",
            "\n",
            "[%] Downloading Image #3 from https://cdn.shopify.com/s/files/1/0022/0774/4115/products/mac2_1024x1024@2x.jpg?v=1547227506\n",
            "[%] File Downloaded !\n",
            "\n",
            "[%] Downloading Image #4 from https://3.bp.blogspot.com/-s6BR3A21uDs/TnuXLB2BU8I/AAAAAAAAAWc/spTyvUGnit4/s1600/Crimson%2BCrisp.jpg\n",
            "[%] File Downloaded !\n",
            "\n",
            "[%] Downloading Image #5 from https://cdn.shopify.com/s/files/1/0022/0774/4115/products/image_fa12cb41-e048-4bea-97f4-0efc02554332_1200x1200.jpg?v=1529694618\n",
            "[%] File Downloaded !\n",
            "\n",
            "[%] Downloading Image #6 from https://www.isons.com/wp-content/uploads/2016/10/Red-Delicious-Apple-2.jpg\n",
            "[%] File Downloaded !\n",
            "\n",
            "[%] Downloading Image #7 from https://img3.exportersindia.com/product_images/bc-full/2019/1/5128568/apple-1546928018-4628939.jpeg\n",
            "[%] File Downloaded !\n",
            "\n",
            "[%] Downloading Image #8 from https://www.waimeanurseries.co.nz/assets/Uploads/apples.jpg\n",
            "[%] File Downloaded !\n",
            "\n",
            "[%] Downloading Image #9 from https://cdn.shopify.com/s/files/1/0022/0774/4115/products/mac1_1024x1024@2x.jpg?v=1547227506\n",
            "[%] File Downloaded !\n",
            "\n",
            "[%] Downloading Image #10 from https://www.rd.com/wp-content/uploads/2017/09/01_apples_The-Gross-Truth-About-the-Apples-Youre-Buying-at-the-Supermarket_224332468_Robin-Keefe.jpg\n",
            "[%] File Downloaded !\n",
            "\n",
            "[%] Downloading Image #11 from https://birchfieldnurseries.com/wp-content/uploads/2020/07/IMG_0154-1024x682.jpg\n",
            "[%] File Downloaded !\n",
            "\n",
            "[%] Downloading Image #12 from https://www.isons.com/wp-content/uploads/2016/10/Red-Delicious_shutterstock_556423.jpg\n",
            "[%] File Downloaded !\n",
            "\n",
            "[%] Downloading Image #13 from https://i.ebayimg.com/images/g/kxYAAOSw3ydV6M5N/s-l400.jpg\n",
            "[%] File Downloaded !\n",
            "\n",
            "[%] Downloading Image #14 from https://i.pinimg.com/originals/bf/2a/d5/bf2ad5c1ae6a6151fb3fb791d29a52a1.jpg\n",
            "[%] File Downloaded !\n",
            "\n",
            "[%] Downloading Image #15 from https://fthmb.tqn.com/BhV2mNHHpq6oZ_sFwVYrNdqsoDQ=/960x0/filters:no_upscale()/apples-resized-56a98c755f9b58b7d0fc9f59.jpg\n",
            "[%] File Downloaded !\n",
            "\n",
            "[%] Downloading Image #16 from https://www.gardeningknowhow.com/wp-content/uploads/2018/06/green-apples.jpg\n",
            "[%] File Downloaded !\n",
            "\n",
            "[%] Downloading Image #17 from https://cdn.shopify.com/s/files/1/0022/0774/4115/products/image_212c502e-27c2-42ab-9ddc-2443c7143d98_1024x1024@2x.jpg?v=1543358815\n",
            "[%] File Downloaded !\n",
            "\n",
            "[%] Downloading Image #18 from https://images.wisegeek.com/apple-close-up.jpg\n",
            "[%] File Downloaded !\n",
            "\n",
            "[%] Downloading Image #19 from https://cdn.shopify.com/s/files/1/0030/5253/5857/products/genuine-100-true-red-ox-horn-heart-tomato-fruit-bonsai-100-gardenpack-rare-strawberry-tomatoes-plant-organic-vegetable-land.jpg?v=1568960950\n",
            "[%] File Downloaded !\n",
            "\n",
            "[%] Downloading Image #20 from https://5xoyt9g6d7-flywheel.netdna-ssl.com/wp-content/themes/fnv/dist/images/products/featured-apple-green.png\n",
            "[%] File Downloaded !\n",
            "\n",
            "[%] Downloading Image #21 from https://www.rd.com/wp-content/uploads/2017/11/01_Apple_Surprising-Thanksgiving-Cooking-Hacks-Using-Everyday-Objects_292140977-Africa-Studio.jpg\n",
            "[%] File Downloaded !\n",
            "\n",
            "[%] Downloading Image #22 from http://healthyliving.natureloc.com/wp-content/uploads/2015/09/An-apple-a-day-keeps-the-doctor-away.-Is-it-really-true.-If-so-what-are-the-reasons..jpg\n",
            "[%] File Downloaded !\n",
            "\n",
            "[%] Downloading Image #23 from http://www.macdentalcare.com/pub/photo/2014-09-apple.jpg\n",
            "[%] File Downloaded !\n",
            "\n",
            "[%] Downloading Image #24 from http://cdn.shopify.com/s/files/1/0151/9015/products/Apples_800x.JPG?v=1508458295\n",
            "[%] File Downloaded !\n",
            "\n",
            "[%] Downloading Image #25 from https://20401z3eigij1ugd3g2szg83-wpengine.netdna-ssl.com/wp-content/uploads/2016/09/apple-5880_640.jpg\n",
            "[%] File Downloaded !\n",
            "\n",
            "[%] Downloading Image #26 from https://servingjoy.com/wp-content/uploads/2014/12/organic-fresh-apples-on-wooden-background-in-autumn-harvest-at-local-farm.-Agriculture-concept-theme-with-fresh-apples-in-nature.jpg\n",
            "[%] File Downloaded !\n",
            "\n",
            "[%] Downloading Image #27 from https://3.bp.blogspot.com/-RGrUOgzOh7Y/TtVZD5myywI/AAAAAAAAC1o/PdrUmR4rd1A/s1600/ws_Red_Apple_1024x768.jpg\n",
            "[%] File Downloaded !\n",
            "\n",
            "[%] Downloading Image #28 from http://nutritioncheckup.com/wp-content/uploads/2014/09/apple.jpg\n",
            "[%] File Downloaded !\n",
            "\n",
            "[%] Downloading Image #29 from https://images.indianexpress.com/2016/08/14-apples759.jpg\n",
            "[%] File Downloaded !\n",
            "\n",
            "[%] Downloading Image #30 from http://redprinceapple.ca/wp-content/uploads/2014/12/apples.png\n",
            "[%] File Downloaded !\n",
            "\n",
            "[%] Downloading Image #31 from http://www.ugaoo.com/knowledge-center/wp-content/uploads/2016/12/shutterstock_542202808.jpg\n",
            "[%] File Downloaded !\n",
            "\n",
            "[%] Downloading Image #32 from https://cdn2.stylecraze.com/wp-content/uploads/2013/06/Top-26-Amazing-Benefits-Of-Green-Apples-For-Skin-Hair-And-Health-1.jpg\n",
            "[%] File Downloaded !\n",
            "\n",
            "[%] Downloading Image #33 from http://www.naturalpedia.com/wp-content/uploads/sites/292/2017/06/Red-Apples-Fruits.jpg\n",
            "[%] File Downloaded !\n",
            "\n",
            "[%] Downloading Image #34 from http://www.hgroupusa.com/xe_core_1543/layouts/hgroup/images/realfruits.jpg\n",
            "[%] File Downloaded !\n",
            "\n",
            "[%] Downloading Image #35 from https://static9.depositphotos.com/1642482/1149/i/950/depositphotos_11490598-stock-photo-red-apple-fruit.jpg\n",
            "[%] File Downloaded !\n",
            "\n",
            "[%] Downloading Image #36 from https://i.ebayimg.com/images/g/2MwAAOSwivlcpEWL/s-l300.jpg\n",
            "[%] File Downloaded !\n",
            "\n",
            "[%] Downloading Image #37 from https://globe-views.com/dcim/dreams/apple/apple-03.jpg\n",
            "[Error]Invalid image, not saving https://globe-views.com/dcim/dreams/apple/apple-03.jpg\n",
            "\n",
            "[!] Issue getting: https://globe-views.com/dcim/dreams/apple/apple-03.jpg\n",
            "[!] Error:: Invalid image, not saving https://globe-views.com/dcim/dreams/apple/apple-03.jpg\n",
            "\n",
            "[%] Downloading Image #37 from https://cdn.shopify.com/s/files/1/0030/5253/5857/products/genuine-100-true-red-ox-horn-heart-tomato-fruit-bonsai-100-gardenpack-rare-strawberry-tomatoes-plant-organic-vegetable-land-3_1200x1200.jpg?v=1568960952\n",
            "[%] File Downloaded !\n",
            "\n",
            "[%] Downloading Image #38 from https://ae01.alicdn.com/kf/HTB1MuAof2ImBKNjSZFlq6A43FXaU.jpg\n",
            "[%] File Downloaded !\n",
            "\n",
            "[%] Downloading Image #39 from https://cdn.shopify.com/s/files/1/0030/5253/5857/products/genuine-100-true-red-ox-horn-heart-tomato-fruit-bonsai-100-gardenpack-rare-strawberry-tomatoes-plant-organic-vegetable-land-6.jpg?v=1568960955\n",
            "[%] File Downloaded !\n",
            "\n",
            "[%] Downloading Image #40 from http://s2.hubimg.com/u/12080227_f1024.jpg\n",
            "[%] File Downloaded !\n",
            "\n",
            "[%] Downloading Image #41 from https://globe-views.com/dcim/dreams/apple/apple-06.jpg\n",
            "[Error]Invalid image, not saving https://globe-views.com/dcim/dreams/apple/apple-06.jpg\n",
            "\n",
            "[!] Issue getting: https://globe-views.com/dcim/dreams/apple/apple-06.jpg\n",
            "[!] Error:: Invalid image, not saving https://globe-views.com/dcim/dreams/apple/apple-06.jpg\n",
            "\n",
            "[%] Downloading Image #41 from https://cdn.shopify.com/s/files/1/0030/5253/5857/products/genuine-100-true-red-ox-horn-heart-tomato-fruit-bonsai-100-gardenpack-rare-strawberry-tomatoes-plant-organic-vegetable-land-2_800x800.jpg?v=1568960951\n",
            "[%] File Downloaded !\n",
            "\n",
            "[%] Downloading Image #42 from https://3.bp.blogspot.com/-0OPgGqbHF90/TtVZDC6lgKI/AAAAAAAAC1Q/39Yuzxp1wiQ/s1600/apple.jpg\n",
            "[%] File Downloaded !\n",
            "\n",
            "[%] Downloading Image #43 from https://tropicalplantae.com/wp-content/uploads/2020/08/F810E662-D9B4-43BC-942C-AC6D350B2640.jpeg\n",
            "[%] File Downloaded !\n",
            "\n",
            "[%] Downloading Image #44 from https://cdn.shopify.com/s/files/1/2858/6430/products/fresh_green_Sugar_Apple_fruit_in_nature_garden_195d8472-7b7e-4d0a-976c-15b14aaced55_1800x1800.jpg?v=1569306923\n",
            "[%] File Downloaded !\n",
            "\n",
            "[%] Downloading Image #45 from https://i.ebayimg.com/images/g/4JgAAOSw44BYk671/s-l400.jpg\n",
            "[%] File Downloaded !\n",
            "\n",
            "[%] Downloading Image #46 from https://www.pinklemonade.in/marketingmaximus/wp-content/uploads/2018/01/PL-Blog-Banner_Banner-2.jpg\n",
            "[%] File Downloaded !\n",
            "\n",
            "[%] Downloading Image #47 from https://www.weightofthenation.org/wp-content/uploads/2016/03/Fresh-Red-Yellow-Green-Apple-Fruits.jpg\n",
            "[%] File Downloaded !\n",
            "\n",
            "[%] Downloading Image #48 from https://beyondthehorizonfarm.com/wp-content/uploads/2016/04/DSCF4436-e1460131077811.jpg\n",
            "[%] File Downloaded !\n",
            "\n",
            "\n",
            "\n",
            "[!!]Indexing page: 2\n",
            "\n",
            "[%] Indexed 35 Images on Page 2.\n",
            "\n",
            "===============================================\n",
            "\n",
            "[%] Downloading Image #49 from https://pixnio.com/free-images/2018/07/01/2018-07-01-16-50-16-1162x900.jpg\n",
            "[%] File Downloaded !\n",
            "\n",
            "[%] Downloading Image #50 from http://4.bp.blogspot.com/-X84kXtkWTrw/UjKpSPZ6NGI/AAAAAAAAIQg/0ijFmlALXYg/s1600/Colourfull-Apple-Fruit-Wallpaper.jpg\n",
            "[%] File Downloaded !\n",
            "\n",
            "\n",
            "\n",
            "[%] Done. Downloaded 50 images.\n",
            "===============================================\n",
            "\n",
            "Please show your support here\n",
            "https://www.buymeacoffee.com/gurugaurav\n",
            "\n",
            "===============================================\n",
            "\n",
            "[%] Downloading Images to /content/images/yellow banana fruit\n",
            "\n",
            "\n",
            "[!!]Indexing page: 1\n",
            "\n",
            "[%] Indexed 50 Images on Page 1.\n",
            "\n",
            "===============================================\n",
            "\n",
            "[%] Downloading Image #1 from https://i.ebayimg.com/images/g/fQgAAOSwecZf6ZsM/s-l300.jpg\n",
            "[%] File Downloaded !\n",
            "\n",
            "[%] Downloading Image #2 from https://pixfeeds.com/images/fruits-vegetables/1280-510495791-yellow-banana-bunches.jpg\n",
            "[%] File Downloaded !\n",
            "\n",
            "[%] Downloading Image #3 from https://i.pinimg.com/originals/89/7b/07/897b07c92c8ff9aad378d2345a6f2b7e.jpg\n",
            "[%] File Downloaded !\n",
            "\n",
            "[%] Downloading Image #4 from https://i.pinimg.com/originals/09/ad/c8/09adc8b2a18794f1c0469c9f890714bb.jpg\n",
            "[%] File Downloaded !\n",
            "\n",
            "[%] Downloading Image #5 from https://img1.mashed.com/img/gallery/there-might-soon-be-a-shortage-of-bananas-and-it-has-nothing-to-do-with-covid/l-intro-1611501141.jpg\n",
            "[%] File Downloaded !\n",
            "\n",
            "[%] Downloading Image #6 from https://i.pinimg.com/originals/37/e5/12/37e5122ff03bcaab4a0c08c78b6573ca.jpg\n",
            "[%] File Downloaded !\n",
            "\n",
            "[%] Downloading Image #7 from https://s.yimg.com/ny/api/res/1.2/EpuvCN74rbrgm0_kNkJlNg--/YXBwaWQ9aGlnaGxhbmRlcjt3PTIwMDA7aD0xMDAw/https://s.yimg.com/uu/api/res/1.2/otENrh.wM180BellSPhVqA--~B/aD0xMjAwO3c9MjQwMDtzbT0xO2FwcGlkPXl0YWNoeW9u/https://media.zenfs.com/en-US/nbc_today_217/bc0080ca0536ebc46d9951cb809921a1\n",
            "[%] File Downloaded !\n",
            "\n",
            "[%] Downloading Image #8 from https://i.pinimg.com/736x/a1/8b/05/a18b0529de452c39535f6597460df199--vegan-diet-plans-remove-warts.jpg\n",
            "[%] File Downloaded !\n",
            "\n",
            "[%] Downloading Image #9 from https://i.pinimg.com/originals/20/48/53/204853e463be5da128a137f1e7271544.jpg\n",
            "[%] File Downloaded !\n",
            "\n",
            "[%] Downloading Image #10 from https://i.pinimg.com/originals/48/18/3f/48183fb5c3c9a7f46c4699dfa68a7f22.jpg\n",
            "[%] File Downloaded !\n",
            "\n",
            "[%] Downloading Image #11 from https://i.pinimg.com/originals/f2/dd/f6/f2ddf686a15d72e1c5bcb6c38cc5ec8a.jpg\n",
            "[%] File Downloaded !\n",
            "\n",
            "[%] Downloading Image #12 from https://i.pinimg.com/originals/66/0a/3b/660a3bf844ee46b0600d0a4c42e03fb3.jpg\n",
            "[%] File Downloaded !\n",
            "\n",
            "[%] Downloading Image #13 from https://i.ebayimg.com/images/i/233194616330-0-1/s-l1000.jpg\n",
            "[%] File Downloaded !\n",
            "\n",
            "[%] Downloading Image #14 from https://curo.co/wp-content/uploads/2020/01/banana-CURO.jpg\n",
            "[%] File Downloaded !\n",
            "\n",
            "[%] Downloading Image #15 from https://cdn2.photostockeditor.com/c/2612/fruit-yellow-banana-fruit-food-food-image.jpg\n",
            "[%] File Downloaded !\n",
            "\n",
            "[%] Downloading Image #16 from http://pics.davesgarden.com/pics/2009/07/29/aves2464/b72369.jpg\n",
            "[%] File Downloaded !\n",
            "\n",
            "[%] Downloading Image #17 from https://www.maxpixel.net/static/photo/2x/Fruit-Exterior-Bananas-Cluster-Yellow-745442.jpg\n",
            "[%] File Downloaded !\n",
            "\n",
            "[%] Downloading Image #18 from https://yt3.ggpht.com/a/AATXAJzUbW6No_yuFCeS2-dY23iM7EzPiwsX58XqT1Jj=s900-c-k-c0xffffffff-no-rj-mo\n",
            "[%] File Downloaded !\n",
            "\n",
            "[%] Downloading Image #19 from http://www.recipestation.com/wp-content/uploads/sites/736/2016/08/dreamstime_s_58835288-680x365.jpg\n",
            "[%] File Downloaded !\n",
            "\n",
            "[%] Downloading Image #20 from https://qph.fs.quoracdn.net/main-qimg-93e89cc84586451023a3cbfaf6f02e91-c\n",
            "[Error]Invalid image, not saving https://qph.fs.quoracdn.net/main-qimg-93e89cc84586451023a3cbfaf6f02e91-c\n",
            "\n",
            "[!] Issue getting: https://qph.fs.quoracdn.net/main-qimg-93e89cc84586451023a3cbfaf6f02e91-c\n",
            "[!] Error:: Invalid image, not saving https://qph.fs.quoracdn.net/main-qimg-93e89cc84586451023a3cbfaf6f02e91-c\n",
            "\n",
            "[%] Downloading Image #20 from https://www.lima-europe.eu/wp-content/uploads/2017/04/Banana.jpg\n",
            "[%] File Downloaded !\n",
            "\n",
            "[%] Downloading Image #21 from http://susanwychedesign.com/wp-content/uploads/2010/08/IMG_5922.jpg\n",
            "[%] File Downloaded !\n",
            "\n",
            "[%] Downloading Image #22 from https://i.ebayimg.com/images/g/dKYAAOSwubRf6u4P/s-l400.jpg\n",
            "[%] File Downloaded !\n",
            "\n",
            "[%] Downloading Image #23 from https://genewinbiotech.com/wp-content/uploads/2017/06/IMG_2613.jpg\n",
            "[%] File Downloaded !\n",
            "\n",
            "[%] Downloading Image #24 from https://i.ebayimg.com/images/g/4-QAAOSwzUxcr14V/s-l640.jpg\n",
            "[%] File Downloaded !\n",
            "\n",
            "[%] Downloading Image #25 from http://i2.wp.com/theverybesttop10.com/wp-content/uploads/2014/07/Top-10-Strange-Rare-and-Unusual-Bananas-9.jpg?resize=510%2C341\n",
            "[%] File Downloaded !\n",
            "\n",
            "[%] Downloading Image #26 from https://www.free-for-kids.com/wp-content/uploads/2020/07/yellow-banana-200px.png\n",
            "[%] File Downloaded !\n",
            "\n",
            "[%] Downloading Image #27 from https://ae01.alicdn.com/kf/HTB1ev4wkOCYBuNkSnaVq6AMsVXaH/bonsai-True-Yellow-Summer-Squash-Zucchini-banana-Seeds-Russian-Heirloom-delicious-fruit-Seeds-factory-package-100.jpg\n",
            "[%] File Downloaded !\n",
            "\n",
            "[%] Downloading Image #28 from https://ae01.alicdn.com/kf/HTB1LpWyj_dYBeNkSmLyq6xfnVXaJ/True-Yellow-Summer-Squash-Zucchini-banana-Russian-Heirloom-delicious-fruit-for-home-garden-100-real-factory.jpg\n",
            "[%] File Downloaded !\n",
            "\n",
            "[%] Downloading Image #29 from https://i.pinimg.com/736x/92/41/da/9241dac3a278c5f8c135fca7df3e8aa2--yellow-fruit-foodies.jpg\n",
            "[%] File Downloaded !\n",
            "\n",
            "[%] Downloading Image #30 from https://i.pinimg.com/originals/4d/e2/10/4de210427053df40a218283c78cc206d.jpg\n",
            "[%] File Downloaded !\n",
            "\n",
            "[%] Downloading Image #31 from https://qph.fs.quoracdn.net/main-qimg-6b366748adb825379dce7e3b28075878\n",
            "[%] File Downloaded !\n",
            "\n",
            "[%] Downloading Image #32 from https://www.candybarsydney.com.au/web/image/product.template/37564/image_1024?unique=ad1ace4\n",
            "[%] File Downloaded !\n",
            "\n",
            "[%] Downloading Image #33 from https://pics.davesgarden.com/pics/2008/01/16/Kell/d5fd04.jpg\n",
            "[%] File Downloaded !\n",
            "\n",
            "[%] Downloading Image #34 from https://www.nutrition-and-you.com/image-files/xbanana-in-clusters1.jpg.pagespeed.ic.7Qb6fbQo0C.jpg\n",
            "[%] File Downloaded !\n",
            "\n",
            "[%] Downloading Image #35 from https://i.ebayimg.com/images/g/WVkAAOSw0l9a-xMx/s-l400.jpg\n",
            "[%] File Downloaded !\n",
            "\n",
            "[%] Downloading Image #36 from https://www.maveline.com/wp-content/uploads/2020/10/9DA7814E-E1CF-49FC-B25E-C0DE03B82232.jpeg\n",
            "[%] File Downloaded !\n",
            "\n",
            "[%] Downloading Image #37 from https://i.pinimg.com/originals/f7/2d/33/f72d3324b869149e63f9097c5022683d.jpg\n",
            "[%] File Downloaded !\n",
            "\n",
            "[%] Downloading Image #38 from https://pics.davesgarden.com/pics/2012/09/24/lanakila/9e1bba.jpg\n",
            "[%] File Downloaded !\n",
            "\n",
            "[%] Downloading Image #39 from https://i.ebayimg.com/images/g/k2QAAOSwR7ldCDvL/s-l640.jpg\n",
            "[%] File Downloaded !\n",
            "\n",
            "[%] Downloading Image #40 from https://kids.sandiegozoo.org/sites/default/files/2019-01/bananas-bunch.jpg\n",
            "[%] File Downloaded !\n",
            "\n",
            "[%] Downloading Image #41 from http://pics.davesgarden.com/pics/2015/12/25/Kell/610807.jpg\n",
            "[%] File Downloaded !\n",
            "\n",
            "[%] Downloading Image #42 from https://i.ebayimg.com/images/g/PaoAAOSwEyRaddH-/s-l640.jpg\n",
            "[%] File Downloaded !\n",
            "\n",
            "[%] Downloading Image #43 from https://upload.wikimedia.org/wikipedia/commons/9/96/Musella_lasiocarpa_-_golden_lotus_banana_-_desc-in_flower.jpg\n",
            "[%] File Downloaded !\n",
            "\n",
            "[%] Downloading Image #44 from https://i.pinimg.com/474x/f4/9a/da/f49ada56e5a376f9e09bd1f4b9bafa28--eating-bananas-healthy-eats.jpg\n",
            "[%] File Downloaded !\n",
            "\n",
            "[%] Downloading Image #45 from https://i0.wp.com/therockysafari.com/wp-content/uploads/2017/06/bananav3-1024x768.jpg?resize=695%2C521&amp;ssl=1\n",
            "[%] File Downloaded !\n",
            "\n",
            "[%] Downloading Image #46 from https://i.ebayimg.com/images/g/qbcAAOSwfmFfsSab/s-l400.jpg\n",
            "[%] File Downloaded !\n",
            "\n",
            "[%] Downloading Image #47 from http://www.nauseahelp.com/wp-content/uploads/2012/02/bananas.jpg\n",
            "[%] File Downloaded !\n",
            "\n",
            "[%] Downloading Image #48 from https://i.pinimg.com/originals/98/85/69/98856953d40c8a22a2888494842a571e.jpg\n",
            "[%] File Downloaded !\n",
            "\n",
            "[%] Downloading Image #49 from https://i.ebayimg.com/images/g/7DIAAOSwlx9fY1id/s-l400.jpg\n",
            "[%] File Downloaded !\n",
            "\n",
            "\n",
            "\n",
            "[!!]Indexing page: 2\n",
            "\n",
            "[%] Indexed 35 Images on Page 2.\n",
            "\n",
            "===============================================\n",
            "\n",
            "[%] Downloading Image #50 from https://i.ebayimg.com/images/g/fQgAAOSwecZf6ZsM/s-l300.jpg\n",
            "[%] File Downloaded !\n",
            "\n",
            "\n",
            "\n",
            "[%] Done. Downloaded 50 images.\n",
            "===============================================\n",
            "\n",
            "Please show your support here\n",
            "https://www.buymeacoffee.com/gurugaurav\n",
            "\n",
            "===============================================\n",
            "\n",
            "[%] Downloading Images to /content/images/green grapes fruit\n",
            "\n",
            "\n",
            "[!!]Indexing page: 1\n",
            "\n",
            "[%] Indexed 50 Images on Page 1.\n",
            "\n",
            "===============================================\n",
            "\n",
            "[%] Downloading Image #1 from https://i.pinimg.com/originals/3c/ed/55/3ced55a8f7ab30b3f1a4699b3debe12d.jpg\n",
            "[%] File Downloaded !\n",
            "\n",
            "[%] Downloading Image #2 from https://i.pinimg.com/originals/ba/e1/05/bae105d0c675f20068d64ea512d59862.jpg\n",
            "[%] File Downloaded !\n",
            "\n",
            "[%] Downloading Image #3 from https://i.pinimg.com/originals/81/e0/aa/81e0aa0cff673541e19d695c212957a8.jpg\n",
            "[%] File Downloaded !\n",
            "\n",
            "[%] Downloading Image #4 from https://upload.wikimedia.org/wikipedia/commons/thumb/1/15/Green_grapes.jpg/1280px-Green_grapes.jpg\n",
            "[%] File Downloaded !\n",
            "\n",
            "[%] Downloading Image #5 from https://i.pinimg.com/originals/18/5b/a8/185ba8ae0c2c66b3c8b5ab4bcd6c67ff.jpg\n",
            "[%] File Downloaded !\n",
            "\n",
            "[%] Downloading Image #6 from https://bestseedsonline.com/wp-content/uploads/2019/11/New-Arrival-100-True-Golden-Finger-Green-Sweet-Gra.jpg\n",
            "[%] File Downloaded !\n",
            "\n",
            "[%] Downloading Image #7 from https://jasminevineyards.com/wp-content/uploads/2018/12/grapes-green-1900-1024x683.png\n",
            "[%] File Downloaded !\n",
            "\n",
            "[%] Downloading Image #8 from https://i.pinimg.com/originals/68/0c/85/680c851248eabcbab382a6d2fd6f16d5.jpg\n",
            "[%] File Downloaded !\n",
            "\n",
            "[%] Downloading Image #9 from http://www.cuzcoeats.com/wp-content/uploads/2015/12/GreenGrapes-620x350.jpg\n",
            "[%] File Downloaded !\n",
            "\n",
            "[%] Downloading Image #10 from https://i.pinimg.com/originals/70/b7/9e/70b79ef2cee94aa3603bc95746585578.jpg\n",
            "[%] File Downloaded !\n",
            "\n",
            "[%] Downloading Image #11 from https://gatesfarmshop.co.uk/wp-content/uploads/IMG-20200509-WA0070.jpg\n",
            "[%] File Downloaded !\n",
            "\n",
            "[%] Downloading Image #12 from https://i.pinimg.com/originals/56/45/01/564501e803e175194e0b83f0279089a2.jpg\n",
            "[%] File Downloaded !\n",
            "\n",
            "[%] Downloading Image #13 from https://i.pinimg.com/originals/ac/ec/57/acec5722241f33ac15fe5e5201413beb.jpg\n",
            "[%] File Downloaded !\n",
            "\n",
            "[%] Downloading Image #14 from https://i.pinimg.com/originals/af/88/e2/af88e247b63866ad22c4f949a30424b2.jpg\n",
            "[%] File Downloaded !\n",
            "\n",
            "[%] Downloading Image #15 from https://i.pinimg.com/originals/80/f8/52/80f8521f38fbbaf55e3ee57e34f742dc.jpg\n",
            "[%] File Downloaded !\n",
            "\n",
            "[%] Downloading Image #16 from https://i.pinimg.com/474x/15/e0/77/15e0777742598bad4bcc2da15bc84258--green-grapes-health-benefits.jpg\n",
            "[%] File Downloaded !\n",
            "\n",
            "[%] Downloading Image #17 from https://i.pinimg.com/originals/23/59/01/235901cdae68f7c21a0b815b27919643.jpg\n",
            "[%] File Downloaded !\n",
            "\n",
            "[%] Downloading Image #18 from https://s-media-cache-ak0.pinimg.com/736x/bb/6d/92/bb6d927d3fe00b6d776f36145d8b77db--purple-vegetables-greek-tragedy.jpg\n",
            "[%] File Downloaded !\n",
            "\n",
            "[%] Downloading Image #19 from https://i.ebayimg.com/images/g/UTQAAOSwP8ld04x8/s-l640.jpg\n",
            "[%] File Downloaded !\n",
            "\n",
            "[%] Downloading Image #20 from https://images-na.ssl-images-amazon.com/images/I/61IO4txt5ZL._SL1200_.jpg\n",
            "[%] File Downloaded !\n",
            "\n",
            "[%] Downloading Image #21 from https://ordery.my/skin/uploads/sites/6/2020/04/FC_GrapesGreen-op.jpg\n",
            "[%] File Downloaded !\n",
            "\n",
            "[%] Downloading Image #22 from https://get.wallhere.com/photo/food-nature-branch-fruit-green-grapes-Grape-autumn-leaf-flower-plant-season-flora-agriculture-produce-botany-land-plant-flowering-plant-macro-photography-vitis-grapevine-family-157336.jpg\n",
            "[%] File Downloaded !\n",
            "\n",
            "[%] Downloading Image #23 from https://i.pinimg.com/736x/c8/46/72/c84672af980a457849864ef3f689709c.jpg\n",
            "[%] File Downloaded !\n",
            "\n",
            "[%] Downloading Image #24 from https://warrenmars.com/visual_art/theory/colour_wheel/green_grape/green_grapes.jpg\n",
            "[%] File Downloaded !\n",
            "\n",
            "[%] Downloading Image #25 from https://factorydirectcraft.com/pimages/20200430124132-301509/artificial_green_grape_cluster_true_vintage.jpg\n",
            "[%] File Downloaded !\n",
            "\n",
            "[%] Downloading Image #26 from https://i.pinimg.com/474x/15/11/9b/15119b2dec68e599baab517a43961f4c--planting-plants-green-grapes.jpg\n",
            "[%] File Downloaded !\n",
            "\n",
            "[%] Downloading Image #27 from https://sc01.alicdn.com/kf/UTB8dtC_BxHEXKJk43Jeq6yeeXXaI.jpg_350x350.jpg\n",
            "[%] File Downloaded !\n",
            "\n",
            "[%] Downloading Image #28 from https://images-eu.ssl-images-amazon.com/images/I/51XDyAiGJSL._SX300_QL70_.jpg\n",
            "[%] File Downloaded !\n",
            "\n",
            "[%] Downloading Image #29 from https://s-media-cache-ak0.pinimg.com/736x/75/1c/87/751c87d217b727a031538b258b3c95e0--fruit-art-cabernet-sauvignon.jpg\n",
            "[%] File Downloaded !\n",
            "\n",
            "[%] Downloading Image #30 from http://alexgreen-eg.com/wp-content/uploads/2015/03/GreenGrapesHC0906-750x335.jpg\n",
            "[%] File Downloaded !\n",
            "\n",
            "[%] Downloading Image #31 from https://i.ebayimg.com/images/g/vXYAAOSwigpfrTWk/s-l640.jpg\n",
            "[%] File Downloaded !\n",
            "\n",
            "[%] Downloading Image #32 from https://media.grocerygateway.com/medias/4022-1-base-conversionFormat-1200-conversionFormat.jpg?context=bWFzdGVyfGltYWdlc3wzMzM0M3xpbWFnZS9qcGVnfGltYWdlcy9oNTEvaGRhLzg4MzYxMTQwNTUxOTguanBnfGIxMDYzNzZhYjk3ZmQwYTcxNjI3Mzg1MTNhNTIxYzFlYmVjZTBjMGY1YWZiODBhNTRiNDFlYTY3OGQwNTlmYWE\n",
            "[%] File Downloaded !\n",
            "\n",
            "[%] Downloading Image #33 from https://i.pinimg.com/originals/09/23/91/0923912c66ffa8ec86f44e83ce591152.jpg\n",
            "[%] File Downloaded !\n",
            "\n",
            "[%] Downloading Image #34 from https://www.cooksinfo.com/wp-content/uploads/green-grapes.jpg\n",
            "[%] File Downloaded !\n",
            "\n",
            "[%] Downloading Image #35 from https://factorydirectcraft.com/pimages/20200119161527-192095/artificial_green_grape_cluster_true_vintage_2.jpg\n",
            "[%] File Downloaded !\n",
            "\n",
            "[%] Downloading Image #36 from http://tried-and-true.com/wp-content/uploads/2011/01/Green-Grapes-Web.jpg\n",
            "[%] File Downloaded !\n",
            "\n",
            "[%] Downloading Image #37 from https://i.pinimg.com/736x/80/e1/f7/80e1f73eadecfbf97f0ecfdc8a7b5148--the-grapes-fruit-art.jpg\n",
            "[%] File Downloaded !\n",
            "\n",
            "[%] Downloading Image #38 from https://i.pinimg.com/originals/cb/8c/0f/cb8c0fccc6fe38ae014b4fe41db87000.jpg\n",
            "[%] File Downloaded !\n",
            "\n",
            "[%] Downloading Image #39 from https://i.pinimg.com/originals/9a/b5/e1/9ab5e12bd48f6cb6b5bcfcd84505d3f2.jpg\n",
            "[%] File Downloaded !\n",
            "\n",
            "[%] Downloading Image #40 from https://img.livestrong.com/375/clsd/getty/857d0def66ce4fa3b7b553dcf9a8e3ff.jpg\n",
            "[%] File Downloaded !\n",
            "\n",
            "[%] Downloading Image #41 from https://i.pinimg.com/originals/82/ab/cc/82abccf459b70d086c3a073fea2bbb8c.png\n",
            "[%] File Downloaded !\n",
            "\n",
            "[%] Downloading Image #42 from https://i.ebayimg.com/images/g/jBYAAOSwZjJU6NeV/s-l400.jpg\n",
            "[%] File Downloaded !\n",
            "\n",
            "[%] Downloading Image #43 from https://i.pinimg.com/originals/63/56/f2/6356f2935501db9ea733f3f14438b17d.jpg\n",
            "[%] File Downloaded !\n",
            "\n",
            "[%] Downloading Image #44 from https://i0.wp.com/www.theayurveda.org/wp-content/uploads/2015/06/Farm-of-Green-Grapes.jpg?fit=600%2C450&amp;ssl=1\n",
            "[%] File Downloaded !\n",
            "\n",
            "[%] Downloading Image #45 from https://i.pinimg.com/originals/4f/47/70/4f477028bf6c5e369f23b02c984d2448.jpg\n",
            "[%] File Downloaded !\n",
            "\n",
            "[%] Downloading Image #46 from https://i.ebayimg.com/images/g/pigAAOSwGjtcYc6p/s-l640.jpg\n",
            "[%] File Downloaded !\n",
            "\n",
            "[%] Downloading Image #47 from https://i2.wp.com/www.simplynorma.com/wp-content/uploads/2013/06/Six-Green-Grapes-Sliced.jpg\n",
            "[%] File Downloaded !\n",
            "\n",
            "[%] Downloading Image #48 from https://shelsy.com.ua/uploads/products/original/553/759250fc9a44a963f071df2de71bb03266076eb5.jpg\n",
            "[%] File Downloaded !\n",
            "\n",
            "[%] Downloading Image #49 from https://i.pinimg.com/originals/0f/c3/7e/0fc37e69984a31c8ca094985a28a10bf.jpg\n",
            "[%] File Downloaded !\n",
            "\n",
            "[%] Downloading Image #50 from https://i.pinimg.com/474x/18/2f/a4/182fa4fc604436cc48588401ae4a2af2--sugar-busters-food-facts.jpg\n",
            "[%] File Downloaded !\n",
            "\n",
            "\n",
            "\n",
            "[%] Done. Downloaded 50 images.\n",
            "===============================================\n",
            "\n",
            "Please show your support here\n",
            "https://www.buymeacoffee.com/gurugaurav\n",
            "\n",
            "===============================================\n",
            "\n",
            "time: 46 s (started: 2021-06-26 17:06:10 +00:00)\n"
          ],
          "name": "stdout"
        }
      ]
    },
    {
      "cell_type": "markdown",
      "metadata": {
        "id": "zN9szm7PChXb"
      },
      "source": [
        "#Preprocessing the image data"
      ]
    },
    {
      "cell_type": "code",
      "metadata": {
        "colab": {
          "base_uri": "https://localhost:8080/"
        },
        "id": "3tquJioBLrzF",
        "outputId": "4e5a7fed-1ca1-4d4a-c054-e5259e43bee8"
      },
      "source": [
        "import os\n",
        "import matplotlib.pyplot as plt\n",
        "import numpy as np\n",
        "from skimage.io import imread\n",
        "from skimage.transform import resize"
      ],
      "execution_count": 5,
      "outputs": [
        {
          "output_type": "stream",
          "text": [
            "time: 850 ms (started: 2021-06-26 17:07:19 +00:00)\n"
          ],
          "name": "stdout"
        }
      ]
    },
    {
      "cell_type": "code",
      "metadata": {
        "colab": {
          "base_uri": "https://localhost:8080/"
        },
        "id": "bg_pHbt7M1ot",
        "outputId": "797cf810-a3bf-49e4-f98d-0370d910f689"
      },
      "source": [
        "target = []\n",
        "images= []\n",
        "flat_data = []\n",
        "DATADIR = '/content/images'\n",
        "CATEGORIES = ['red apple fruit','yellow banana fruit','green grapes fruit']\n",
        "\n",
        "for category in CATEGORIES:\n",
        "  class_num = CATEGORIES.index(category) #Label Encoding\n",
        "  path = os.path.join(DATADIR,category) #Path joining\n",
        "  for img in os.listdir(path):\n",
        "    img_array = imread(os.path.join(path,img))#Storing each image matrix\n",
        "    img_resize = resize(img_array,(150,150,3))#Storing the resized image matrix\n",
        "    flat_data.append(img_resize.flatten())#Adding the flattened matrix i.e vector into flat_data\n",
        "    target.append(class_num)\n",
        "#Changing to np array\n",
        "flat_data = np.array(flat_data)\n",
        "target = np.array(target)\n",
        "images = np.array(images)    \n",
        "\n"
      ],
      "execution_count": 6,
      "outputs": [
        {
          "output_type": "stream",
          "text": [
            "/usr/local/lib/python3.7/dist-packages/PIL/TiffImagePlugin.py:788: UserWarning: Corrupt EXIF data.  Expecting to read 4 bytes but only got 0. \n",
            "  warnings.warn(str(msg))\n"
          ],
          "name": "stderr"
        },
        {
          "output_type": "stream",
          "text": [
            "time: 35.7 s (started: 2021-06-26 17:07:21 +00:00)\n"
          ],
          "name": "stdout"
        }
      ]
    },
    {
      "cell_type": "code",
      "metadata": {
        "colab": {
          "base_uri": "https://localhost:8080/"
        },
        "id": "a1JQgFewTrmh",
        "outputId": "c1f8df94-87be-4d01-c79b-16fc69b64b65"
      },
      "source": [
        "flat_data"
      ],
      "execution_count": 7,
      "outputs": [
        {
          "output_type": "execute_result",
          "data": {
            "text/plain": [
              "array([[0.21339869, 0.20718954, 0.0627451 , ..., 0.95326797, 0.93954248,\n",
              "        0.62254902],\n",
              "       [1.        , 1.        , 1.        , ..., 1.        , 1.        ,\n",
              "        1.        ],\n",
              "       [1.        , 1.        , 1.        , ..., 0.99666667, 0.99666667,\n",
              "        0.99666667],\n",
              "       ...,\n",
              "       [0.11847529, 0.05280519, 0.83071895, ..., 0.43067756, 0.28681046,\n",
              "        0.86871678],\n",
              "       [0.21597386, 0.01705882, 0.00392157, ..., 0.84588235, 0.41696732,\n",
              "        0.26657516],\n",
              "       [0.35742919, 0.39542484, 0.19764706, ..., 0.54431373, 0.53638344,\n",
              "        0.49115468]])"
            ]
          },
          "metadata": {
            "tags": []
          },
          "execution_count": 7
        },
        {
          "output_type": "stream",
          "text": [
            "time: 10.9 ms (started: 2021-06-26 17:07:57 +00:00)\n"
          ],
          "name": "stdout"
        }
      ]
    },
    {
      "cell_type": "code",
      "metadata": {
        "colab": {
          "base_uri": "https://localhost:8080/"
        },
        "id": "l-YY8qfIU9Xw",
        "outputId": "1c9b4e82-796f-45a4-f289-4a7d64553956"
      },
      "source": [
        "len(flat_data[0]) #150*150*3"
      ],
      "execution_count": 8,
      "outputs": [
        {
          "output_type": "execute_result",
          "data": {
            "text/plain": [
              "67500"
            ]
          },
          "metadata": {
            "tags": []
          },
          "execution_count": 8
        },
        {
          "output_type": "stream",
          "text": [
            "time: 4.42 ms (started: 2021-06-26 17:07:57 +00:00)\n"
          ],
          "name": "stdout"
        }
      ]
    },
    {
      "cell_type": "code",
      "metadata": {
        "colab": {
          "base_uri": "https://localhost:8080/"
        },
        "id": "3jdi3gRHVPqH",
        "outputId": "2361f207-487e-406a-f238-983f8a06be53"
      },
      "source": [
        "target# Storing the index as target"
      ],
      "execution_count": 9,
      "outputs": [
        {
          "output_type": "execute_result",
          "data": {
            "text/plain": [
              "array([0, 0, 0, 0, 0, 0, 0, 0, 0, 0, 0, 0, 0, 0, 0, 0, 0, 0, 0, 0, 0, 0,\n",
              "       0, 0, 0, 0, 0, 0, 0, 0, 0, 0, 0, 0, 0, 0, 0, 0, 0, 0, 0, 0, 0, 0,\n",
              "       0, 0, 0, 0, 0, 0, 1, 1, 1, 1, 1, 1, 1, 1, 1, 1, 1, 1, 1, 1, 1, 1,\n",
              "       1, 1, 1, 1, 1, 1, 1, 1, 1, 1, 1, 1, 1, 1, 1, 1, 1, 1, 1, 1, 1, 1,\n",
              "       1, 1, 1, 1, 1, 1, 1, 1, 1, 1, 1, 1, 2, 2, 2, 2, 2, 2, 2, 2, 2, 2,\n",
              "       2, 2, 2, 2, 2, 2, 2, 2, 2, 2, 2, 2, 2, 2, 2, 2, 2, 2, 2, 2, 2, 2,\n",
              "       2, 2, 2, 2, 2, 2, 2, 2, 2, 2, 2, 2, 2, 2, 2, 2, 2, 2])"
            ]
          },
          "metadata": {
            "tags": []
          },
          "execution_count": 9
        },
        {
          "output_type": "stream",
          "text": [
            "time: 7.78 ms (started: 2021-06-26 17:07:57 +00:00)\n"
          ],
          "name": "stdout"
        }
      ]
    },
    {
      "cell_type": "code",
      "metadata": {
        "colab": {
          "base_uri": "https://localhost:8080/",
          "height": 298
        },
        "id": "2IHFvOtXVVOP",
        "outputId": "f08cf53c-7df8-48d1-8123-1fbe46cdcb2a"
      },
      "source": [
        "unique,count = np.unique(target , return_counts=True) #unique stores the values, count stores their counts\n",
        "plt.bar(CATEGORIES,count)\n",
        "print(count)"
      ],
      "execution_count": 10,
      "outputs": [
        {
          "output_type": "stream",
          "text": [
            "[50 50 50]\n"
          ],
          "name": "stdout"
        },
        {
          "output_type": "display_data",
          "data": {
            "image/png": "[encoded data removed]",
            "text/plain": [
              "<Figure size 432x288 with 1 Axes>"
            ]
          },
          "metadata": {
            "tags": [],
            "needs_background": "light"
          }
        },
        {
          "output_type": "stream",
          "text": [
            "time: 169 ms (started: 2021-06-26 17:07:57 +00:00)\n"
          ],
          "name": "stdout"
        }
      ]
    },
    {
      "cell_type": "code",
      "metadata": {
        "colab": {
          "base_uri": "https://localhost:8080/"
        },
        "id": "mhrLr-KrVs8S",
        "outputId": "643a84f0-7b80-473d-cbde-f70d40ae4a4a"
      },
      "source": [
        "#Split into Training and test\n",
        "from sklearn.model_selection import train_test_split\n",
        "x_train,x_test,y_train,y_test = train_test_split(flat_data,target,test_size=0.3,random_state=109)"
      ],
      "execution_count": 11,
      "outputs": [
        {
          "output_type": "stream",
          "text": [
            "time: 176 ms (started: 2021-06-26 17:08:52 +00:00)\n"
          ],
          "name": "stdout"
        }
      ]
    },
    {
      "cell_type": "markdown",
      "metadata": {
        "id": "gSXzTF4l9DwD"
      },
      "source": [
        "# Hyper Parameter Tuning GridSearchCV\n"
      ]
    },
    {
      "cell_type": "code",
      "metadata": {
        "id": "wT-um79VWWga",
        "colab": {
          "base_uri": "https://localhost:8080/"
        },
        "outputId": "3f056faf-d27d-43aa-aaa0-7fe88f8a78d8"
      },
      "source": [
        "from sklearn.model_selection import GridSearchCV"
      ],
      "execution_count": 12,
      "outputs": [
        {
          "output_type": "stream",
          "text": [
            "time: 8.34 ms (started: 2021-06-26 17:08:53 +00:00)\n"
          ],
          "name": "stdout"
        }
      ]
    },
    {
      "cell_type": "markdown",
      "metadata": {
        "id": "qwSobLef9UKJ"
      },
      "source": [
        "# Using SVM model"
      ]
    },
    {
      "cell_type": "code",
      "metadata": {
        "colab": {
          "base_uri": "https://localhost:8080/"
        },
        "id": "UjFEMWLA9PVa",
        "outputId": "716a626f-26bc-43d5-d140-7392c0f7e14b"
      },
      "source": [
        "from sklearn import svm\n",
        "param_grid = [\n",
        "              {'C':[1,10,100,1000],'kernel':['linear']},\n",
        "              {'C':[1,10,100,1000],'gamma':[0.001,0.0001],'kernel':['rbf']}\n",
        "                  ]\n",
        "svc=svm.SVC(probability=True)\n",
        "clf=GridSearchCV(svc,param_grid)\n",
        "clf.fit(x_train,y_train)"
      ],
      "execution_count": 13,
      "outputs": [
        {
          "output_type": "execute_result",
          "data": {
            "text/plain": [
              "GridSearchCV(cv=None, error_score=nan,\n",
              "             estimator=SVC(C=1.0, break_ties=False, cache_size=200,\n",
              "                           class_weight=None, coef0=0.0,\n",
              "                           decision_function_shape='ovr', degree=3,\n",
              "                           gamma='scale', kernel='rbf', max_iter=-1,\n",
              "                           probability=True, random_state=None, shrinking=True,\n",
              "                           tol=0.001, verbose=False),\n",
              "             iid='deprecated', n_jobs=None,\n",
              "             param_grid=[{'C': [1, 10, 100, 1000], 'kernel': ['linear']},\n",
              "                         {'C': [1, 10, 100, 1000], 'gamma': [0.001, 0.0001],\n",
              "                          'kernel': ['rbf']}],\n",
              "             pre_dispatch='2*n_jobs', refit=True, return_train_score=False,\n",
              "             scoring=None, verbose=0)"
            ]
          },
          "metadata": {
            "tags": []
          },
          "execution_count": 13
        },
        {
          "output_type": "stream",
          "text": [
            "time: 5min 16s (started: 2021-06-26 17:08:55 +00:00)\n"
          ],
          "name": "stdout"
        }
      ]
    },
    {
      "cell_type": "code",
      "metadata": {
        "colab": {
          "base_uri": "https://localhost:8080/"
        },
        "id": "-albjCu5t1NU",
        "outputId": "109426ee-7a9f-4727-89e9-f948bd22979e"
      },
      "source": [
        "y_pred=clf.predict(x_test)\n",
        "y_pred"
      ],
      "execution_count": 14,
      "outputs": [
        {
          "output_type": "execute_result",
          "data": {
            "text/plain": [
              "array([2, 1, 2, 0, 2, 0, 0, 2, 1, 1, 2, 0, 2, 2, 2, 0, 1, 2, 2, 2, 1, 2,\n",
              "       2, 0, 2, 1, 2, 1, 1, 2, 1, 1, 1, 2, 0, 2, 0, 0, 1, 0, 2, 1, 1, 2,\n",
              "       1])"
            ]
          },
          "metadata": {
            "tags": []
          },
          "execution_count": 14
        },
        {
          "output_type": "stream",
          "text": [
            "time: 462 ms (started: 2021-06-26 17:14:11 +00:00)\n"
          ],
          "name": "stdout"
        }
      ]
    },
    {
      "cell_type": "markdown",
      "metadata": {
        "id": "ONwVzKgP9547"
      },
      "source": [
        "#Testing Accuracy of SVM model"
      ]
    },
    {
      "cell_type": "code",
      "metadata": {
        "colab": {
          "base_uri": "https://localhost:8080/"
        },
        "id": "EZtQsV8euOgH",
        "outputId": "d0fb019f-4acc-4194-b822-f23d5ca0c23b"
      },
      "source": [
        "from sklearn.metrics import accuracy_score,confusion_matrix\n",
        "accuracy_score(y_pred,y_test)"
      ],
      "execution_count": 15,
      "outputs": [
        {
          "output_type": "execute_result",
          "data": {
            "text/plain": [
              "0.6222222222222222"
            ]
          },
          "metadata": {
            "tags": []
          },
          "execution_count": 15
        },
        {
          "output_type": "stream",
          "text": [
            "time: 4.58 ms (started: 2021-06-26 17:14:11 +00:00)\n"
          ],
          "name": "stdout"
        }
      ]
    },
    {
      "cell_type": "code",
      "metadata": {
        "colab": {
          "base_uri": "https://localhost:8080/"
        },
        "id": "v5UM5mjIu10q",
        "outputId": "37439678-b823-4330-de3f-6f987f4a557b"
      },
      "source": [
        "print(confusion_matrix(y_pred,y_test))"
      ],
      "execution_count": 16,
      "outputs": [
        {
          "output_type": "stream",
          "text": [
            "[[ 6  2  2]\n",
            " [ 1 11  3]\n",
            " [ 5  4 11]]\n",
            "time: 4.79 ms (started: 2021-06-26 17:14:11 +00:00)\n"
          ],
          "name": "stdout"
        }
      ]
    },
    {
      "cell_type": "markdown",
      "metadata": {
        "id": "wi6b45bS_967"
      },
      "source": [
        "# Using Pickle to save the model"
      ]
    },
    {
      "cell_type": "code",
      "metadata": {
        "colab": {
          "base_uri": "https://localhost:8080/"
        },
        "id": "cbGtgmUqu7Gg",
        "outputId": "1f09c894-fd06-4e5f-f9ea-c00531171224"
      },
      "source": [
        "import pickle\n",
        "pickle.dump(clf,open('img_model.p','wb'))"
      ],
      "execution_count": 17,
      "outputs": [
        {
          "output_type": "stream",
          "text": [
            "time: 55.9 ms (started: 2021-06-26 17:16:09 +00:00)\n"
          ],
          "name": "stdout"
        }
      ]
    },
    {
      "cell_type": "code",
      "metadata": {
        "colab": {
          "base_uri": "https://localhost:8080/"
        },
        "id": "XwHPkv3UvxMz",
        "outputId": "e00d5a1b-b282-40a0-ee70-c847b3000e97"
      },
      "source": [
        "model = pickle.load(open('img_model.p','rb'))"
      ],
      "execution_count": 18,
      "outputs": [
        {
          "output_type": "stream",
          "text": [
            "time: 31.8 ms (started: 2021-06-26 17:16:10 +00:00)\n"
          ],
          "name": "stdout"
        }
      ]
    },
    {
      "cell_type": "markdown",
      "metadata": {
        "id": "ZJPDGukkBA7t"
      },
      "source": [
        "# Predicting on Input Data"
      ]
    },
    {
      "cell_type": "code",
      "metadata": {
        "colab": {
          "base_uri": "https://localhost:8080/",
          "height": 336
        },
        "id": "m-St-8oav9LH",
        "outputId": "2ea9bf80-f757-491f-ad46-588ede4414fd"
      },
      "source": [
        "flat_data=[]\n",
        "url=input('Enter your URL: ')\n",
        "img=imread(url)\n",
        "img_resized=resize(img,(150,150,3))\n",
        "flat_data.append(img_resized.flatten())\n",
        "flat_data=np.array(flat_data)\n",
        "print(img.shape)\n",
        "plt.imshow(img_resized)\n",
        "y_out=model.predict(flat_data)\n",
        "y_out = CATEGORIES[y_out[0]]\n",
        "print(f'Predicted Output: {y_out}')"
      ],
      "execution_count": 20,
      "outputs": [
        {
          "output_type": "stream",
          "text": [
            "Enter your URL: https://image.shutterstock.com/image-photo/red-apple-fruit-leaf-isolated-260nw-203589940.jpg\n",
            "(280, 240, 3)\n",
            "Predicted Output: red apple fruit\n"
          ],
          "name": "stdout"
        },
        {
          "output_type": "display_data",
          "data": {
            "image/png": "[encoded data removed]",
            "text/plain": [
              "<Figure size 432x288 with 1 Axes>"
            ]
          },
          "metadata": {
            "tags": [],
            "needs_background": "light"
          }
        },
        {
          "output_type": "stream",
          "text": [
            "time: 5.43 s (started: 2021-06-26 17:16:58 +00:00)\n"
          ],
          "name": "stdout"
        }
      ]
    }
  ]
}