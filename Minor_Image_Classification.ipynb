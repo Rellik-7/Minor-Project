{
  "nbformat": 4,
  "nbformat_minor": 0,
  "metadata": {
    "colab": {
      "name": "Minor-Image Classification.ipynb",
      "provenance": [],
      "collapsed_sections": [],
      "authorship_tag": "ABX9TyMmP2eUjCO5weFht5jJjfsX",
      "include_colab_link": true
    },
    "kernelspec": {
      "name": "python3",
      "display_name": "Python 3"
    },
    "language_info": {
      "name": "python"
    }
  },
  "cells": [
    {
      "cell_type": "markdown",
      "metadata": {
        "id": "view-in-github",
        "colab_type": "text"
      },
      "source": [
        "<a href=\"https://colab.research.google.com/github/Rellik-7/Minor-Project/blob/main/Minor_Image_Classification.ipynb\" target=\"_parent\"><img src=\"https://colab.research.google.com/assets/colab-badge.svg\" alt=\"Open In Colab\"/></a>"
      ]
    },
    {
      "cell_type": "markdown",
      "metadata": {
        "id": "PYPY2mgbApZY"
      },
      "source": [
        "# Image Classification using Basic ML Algorithms\n",
        "                              "
      ]
    },
    {
      "cell_type": "markdown",
      "metadata": {
        "id": "CTprk_pFgUED"
      },
      "source": [
        "  Categories:\n",
        "* Apple\n",
        "* Banana\n",
        "* Grapes"
      ]
    },
    {
      "cell_type": "code",
      "metadata": {
        "id": "Ugr3MYWzMPhX"
      },
      "source": [
        "!pip install ipython-autotime\n",
        "%load_ext autotime"
      ],
      "execution_count": null,
      "outputs": []
    },
    {
      "cell_type": "markdown",
      "metadata": {
        "id": "FMgi_6w7BXSU"
      },
      "source": [
        "#Web Scraping using the Bing Image Downloader library"
      ]
    },
    {
      "cell_type": "code",
      "metadata": {
        "id": "j4kWVW9SJiAM"
      },
      "source": [
        "!pip install bing-image-downloader"
      ],
      "execution_count": null,
      "outputs": []
    },
    {
      "cell_type": "code",
      "metadata": {
        "id": "zi3I0Ud_KZ0B"
      },
      "source": [
        "!mkdir images"
      ],
      "execution_count": null,
      "outputs": []
    },
    {
      "cell_type": "code",
      "metadata": {
        "id": "o4DpSMgjKqS2"
      },
      "source": [
        "from bing_image_downloader import downloader\n",
        "downloader.download(\"red apple fruit\",limit=50,output_dir='images',adult_filter_off=True)\n",
        "downloader.download(\"yellow banana fruit\",limit=50,output_dir='images',adult_filter_off=True)\n",
        "downloader.download(\"green grapes fruit\",limit=50,output_dir='images',adult_filter_off=True)"
      ],
      "execution_count": null,
      "outputs": []
    },
    {
      "cell_type": "markdown",
      "metadata": {
        "id": "zN9szm7PChXb"
      },
      "source": [
        "#Preprocessing the image data"
      ]
    },
    {
      "cell_type": "code",
      "metadata": {
        "id": "3tquJioBLrzF"
      },
      "source": [
        "import os\n",
        "import matplotlib.pyplot as plt\n",
        "import numpy as np\n",
        "from skimage.io import imread\n",
        "from skimage.transform import resize"
      ],
      "execution_count": null,
      "outputs": []
    },
    {
      "cell_type": "code",
      "metadata": {
        "id": "bg_pHbt7M1ot"
      },
      "source": [
        "target = []\n",
        "images= []\n",
        "flat_data = []\n",
        "DATADIR = '/content/images'\n",
        "CATEGORIES = ['red apple fruit','yellow banana fruit','green grapes fruit']\n",
        "\n",
        "for category in CATEGORIES:\n",
        "  class_num = CATEGORIES.index(category) #Label Encoding\n",
        "  path = os.path.join(DATADIR,category) #Path joining\n",
        "  for img in os.listdir(path):\n",
        "    img_array = imread(os.path.join(path,img))#Storing each image matrix\n",
        "    img_resize = resize(img_array,(150,150,3))#Storing the resized image matrix\n",
        "    flat_data.append(img_resize.flatten())#Adding the flattened matrix i.e vector into flat_data\n",
        "    target.append(class_num)\n",
        "#Changing to np array\n",
        "flat_data = np.array(flat_data)\n",
        "target = np.array(target)\n",
        "images = np.array(images)    \n",
        "\n"
      ],
      "execution_count": null,
      "outputs": []
    },
    {
      "cell_type": "code",
      "metadata": {
        "id": "a1JQgFewTrmh"
      },
      "source": [
        "flat_data"
      ],
      "execution_count": null,
      "outputs": []
    },
    {
      "cell_type": "code",
      "metadata": {
        "id": "l-YY8qfIU9Xw"
      },
      "source": [
        "len(flat_data[0]) #150*150*3"
      ],
      "execution_count": null,
      "outputs": []
    },
    {
      "cell_type": "code",
      "metadata": {
        "id": "3jdi3gRHVPqH"
      },
      "source": [
        "target# Storing the index as target"
      ],
      "execution_count": null,
      "outputs": []
    },
    {
      "cell_type": "code",
      "metadata": {
        "id": "2IHFvOtXVVOP"
      },
      "source": [
        "unique,count = np.unique(target , return_counts=True) #unique stores the values, count stores their counts\n",
        "plt.bar(CATEGORIES,count)\n",
        "print(count)"
      ],
      "execution_count": null,
      "outputs": []
    },
    {
      "cell_type": "code",
      "metadata": {
        "id": "mhrLr-KrVs8S"
      },
      "source": [
        "#Split into Training and test\n",
        "from sklearn.model_selection import train_test_split\n",
        "x_train,x_test,y_train,y_test = train_test_split(flat_data,target,test_size=0.3,random_state=109)"
      ],
      "execution_count": null,
      "outputs": []
    },
    {
      "cell_type": "markdown",
      "metadata": {
        "id": "gSXzTF4l9DwD"
      },
      "source": [
        "# Hyper Parameter Tuning GridSearchCV\n"
      ]
    },
    {
      "cell_type": "code",
      "metadata": {
        "id": "wT-um79VWWga"
      },
      "source": [
        "from sklearn.model_selection import GridSearchCV"
      ],
      "execution_count": null,
      "outputs": []
    },
    {
      "cell_type": "markdown",
      "metadata": {
        "id": "qwSobLef9UKJ"
      },
      "source": [
        "# Using SVM model"
      ]
    },
    {
      "cell_type": "code",
      "metadata": {
        "id": "UjFEMWLA9PVa"
      },
      "source": [
        "from sklearn import svm\n",
        "param_grid = [\n",
        "              {'C':[1,10,100,1000],'kernel':['linear']},\n",
        "              {'C':[1,10,100,1000],'gamma':[0.001,0.0001],'kernel':['rbf']}\n",
        "                  ]\n",
        "svc=svm.SVC(probability=True)\n",
        "clf=GridSearchCV(svc,param_grid)\n",
        "clf.fit(x_train,y_train)"
      ],
      "execution_count": null,
      "outputs": []
    },
    {
      "cell_type": "code",
      "metadata": {
        "id": "-albjCu5t1NU"
      },
      "source": [
        "y_pred=clf.predict(x_test)\n",
        "y_pred"
      ],
      "execution_count": null,
      "outputs": []
    },
    {
      "cell_type": "markdown",
      "metadata": {
        "id": "ONwVzKgP9547"
      },
      "source": [
        "#Testing Accuracy of SVM model"
      ]
    },
    {
      "cell_type": "code",
      "metadata": {
        "id": "EZtQsV8euOgH"
      },
      "source": [
        "from sklearn.metrics import accuracy_score,confusion_matrix\n",
        "accuracy_score(y_pred,y_test)"
      ],
      "execution_count": null,
      "outputs": []
    },
    {
      "cell_type": "code",
      "metadata": {
        "id": "v5UM5mjIu10q"
      },
      "source": [
        "print(confusion_matrix(y_pred,y_test))"
      ],
      "execution_count": null,
      "outputs": []
    },
    {
      "cell_type": "markdown",
      "metadata": {
        "id": "wi6b45bS_967"
      },
      "source": [
        "# Using Pickle to save the model"
      ]
    },
    {
      "cell_type": "code",
      "metadata": {
        "id": "cbGtgmUqu7Gg"
      },
      "source": [
        "import pickle\n",
        "pickle.dump(clf,open('img_model.p','wb'))"
      ],
      "execution_count": null,
      "outputs": []
    },
    {
      "cell_type": "code",
      "metadata": {
        "id": "XwHPkv3UvxMz"
      },
      "source": [
        "model = pickle.load(open('img_model.p','rb'))"
      ],
      "execution_count": null,
      "outputs": []
    },
    {
      "cell_type": "markdown",
      "metadata": {
        "id": "ZJPDGukkBA7t"
      },
      "source": [
        "# Predicting on Input Data"
      ]
    },
    {
      "cell_type": "code",
      "metadata": {
        "id": "m-St-8oav9LH"
      },
      "source": [
        "flat_data=[]\n",
        "url=input('Enter your URL: ')\n",
        "img=imread(url)\n",
        "img_resized=resize(img,(150,150,3))\n",
        "flat_data.append(img_resized.flatten())\n",
        "flat_data=np.array(flat_data)\n",
        "print(img.shape)\n",
        "plt.imshow(img_resized)\n",
        "y_out=model.predict(flat_data)\n",
        "y_out = CATEGORIES[y_out[0]]\n",
        "print(f'Predicted Output: {y_out}')"
      ],
      "execution_count": null,
      "outputs": []
    }
  ]
}